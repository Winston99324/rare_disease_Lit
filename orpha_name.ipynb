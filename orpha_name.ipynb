{
 "cells": [
  {
   "cell_type": "code",
   "execution_count": 30,
   "metadata": {},
   "outputs": [],
   "source": [
    "import json \n",
    "path = \"./disease_json/en_product1.json\"\n",
    "\n",
    "with open(path, 'r') as file:\n",
    "    data = json.load(file)\n",
    "\n",
    "# Make original data readable\n",
    "path_edit = \"./disease_json/en_product1_edit.json\"\n",
    "with open(path_edit, \"w\", encoding=\"utf-8\") as json_file:\n",
    "    json.dump(data, json_file, indent=4, ensure_ascii=False)\n",
    "\n",
    "with open(path_edit, 'r') as file:\n",
    "    data = json.load(file)"
   ]
  },
  {
   "cell_type": "code",
   "execution_count": 31,
   "metadata": {},
   "outputs": [
    {
     "name": "stdout",
     "output_type": "stream",
     "text": [
      "11074\n"
     ]
    }
   ],
   "source": [
    "# unpack this json \n",
    "diseases = data[\"JDBOR\"][0][\"DisorderList\"][0][\"Disorder\"]\n",
    "\n",
    "disease_data = {\"disease\": []}\n",
    "for disease in diseases:\n",
    "\n",
    "    name = disease['Name'][0]['label']\n",
    "    url = disease['ExpertLink'][0]['link']\n",
    "    code = disease['OrphaCode']\n",
    "    disease_data[\"disease\"].append({\n",
    "                            \"Name\": name, \n",
    "                            \"Orphanet_num\": code,\n",
    "                            \"Orphanet_url\": url\n",
    "                        })\n",
    "print(len(disease_data[\"disease\"]))\n"
   ]
  },
  {
   "cell_type": "code",
   "execution_count": 32,
   "metadata": {},
   "outputs": [],
   "source": [
    "output_dir = \"./disease_json/data.json\"\n",
    "with open(output_dir, \"w\", encoding=\"utf-8\") as json_file:\n",
    "    json.dump(disease_data, json_file, indent=4, ensure_ascii=False)"
   ]
  }
 ],
 "metadata": {
  "kernelspec": {
   "display_name": "Python 3",
   "language": "python",
   "name": "python3"
  },
  "language_info": {
   "codemirror_mode": {
    "name": "ipython",
    "version": 3
   },
   "file_extension": ".py",
   "mimetype": "text/x-python",
   "name": "python",
   "nbconvert_exporter": "python",
   "pygments_lexer": "ipython3",
   "version": "3.8.12"
  }
 },
 "nbformat": 4,
 "nbformat_minor": 2
}

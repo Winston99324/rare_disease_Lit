{
 "cells": [
  {
   "cell_type": "markdown",
   "id": "0d469220",
   "metadata": {
    "lines_to_next_cell": 2
   },
   "source": [
    "https://pmc.ncbi.nlm.nih.gov/articles/PMC8374293/"
   ]
  },
  {
   "cell_type": "code",
   "execution_count": 1,
   "id": "b0d101fb",
   "metadata": {},
   "outputs": [],
   "source": [
    "from Bio import Entrez\n",
    "from datetime import datetime\n",
    "import json\n",
    "import os  "
   ]
  },
  {
   "cell_type": "code",
   "execution_count": 2,
   "id": "a79dbcd0",
   "metadata": {},
   "outputs": [
    {
     "ename": "SyntaxError",
     "evalue": "invalid syntax (4032247881.py, line 1)",
     "output_type": "error",
     "traceback": [
      "\u001b[0;36m  Cell \u001b[0;32mIn[2], line 1\u001b[0;36m\u001b[0m\n\u001b[0;31m    Entrez.email = \"yilianz@uci.edu\"|\u001b[0m\n\u001b[0m                                     ^\u001b[0m\n\u001b[0;31mSyntaxError\u001b[0m\u001b[0;31m:\u001b[0m invalid syntax\n"
     ]
    }
   ],
   "source": [
    "Entrez.email = \"yilianz@uci.edu\""
   ]
  },
  {
   "cell_type": "code",
   "execution_count": 5,
   "id": "cff9951b",
   "metadata": {},
   "outputs": [],
   "source": [
    "def search_and_save_all_pubmed(output_filename, json_filename,  start_year=2015):\n",
    "\n",
    "    # set up base search term\n",
    "    base_search_term = (\n",
    "    '(\"electronic health record\" OR \"electronic health records\" OR \"electronic medical record\" OR \"electronic medical records\" OR \"EHR\" OR \"EMR\") '\n",
    "    'AND (\"rare disease\" OR \"rare diseases\" OR \"undiagnosed disease\" OR \"undiagnosed diseases\") '\n",
    "   \n",
    "    #\"AND (large language model OR language model OR NLP OR natural language processing OR language processing OR machine learning OR artificial intelligence OR predictive modeling OR deep learning)\"\n",
    ")\n",
    "    search_term = base_search_term#.format(rare_disease=f'{disease.lower()}')\n",
    "    \n",
    "    date_range = f\"{start_year}/01/01:3000/12/31[dp]\"  \n",
    "    search_query = f\"{search_term} AND {date_range}\"\n",
    "\n",
    "    \n",
    "    with Entrez.esearch(db=\"pubmed\", term=search_query, retmax=100000, usehistory=\"y\") as search_handle:\n",
    "        search_results = Entrez.read(search_handle)\n",
    "    \n",
    "    total_count = int(search_results[\"Count\"])\n",
    "    #print(f\"Search term: '{search_query}'\")\n",
    "    #print(f\"Total results found: {total_count}\")\n",
    "    search_metadata = {\n",
    "        \"search_query\": search_query,\n",
    "        \"total_results\": total_count\n",
    "    }\n",
    "\n",
    "    with open(json_filename, \"w\") as json_file:\n",
    "        json.dump(search_metadata, json_file, indent=4)\n",
    "\n",
    "    webenv = search_results[\"WebEnv\"]\n",
    "    query_key = search_results[\"QueryKey\"]\n",
    "\n",
    "    all_data = \"\"\n",
    "    batch_size = 10000\n",
    "    \n",
    "    for start in range(0, total_count, batch_size):\n",
    "        \n",
    "        with Entrez.efetch(\n",
    "            db=\"pubmed\",\n",
    "            rettype=\"medline\",\n",
    "            retmode=\"text\",\n",
    "            retstart=start,\n",
    "            retmax=batch_size,\n",
    "            webenv=webenv,\n",
    "            query_key=query_key\n",
    "        ) as fetch_handle:\n",
    "            all_data += fetch_handle.read()\n",
    "\n",
    "    \n",
    "   \n",
    "    with open(output_filename, \"a\") as file:\n",
    "        file.write(all_data)"
   ]
  },
  {
   "cell_type": "code",
   "execution_count": 6,
   "id": "2dacffd6",
   "metadata": {},
   "outputs": [
    {
     "name": "stderr",
     "output_type": "stream",
     "text": [
      "/Users/yiliang/.pyenv/versions/3.8.12/lib/python3.8/site-packages/Bio/Entrez/__init__.py:723: UserWarning: \n",
      "            Email address is not specified.\n",
      "\n",
      "            To make use of NCBI's E-utilities, NCBI requires you to specify your\n",
      "            email address with each request.  As an example, if your email address\n",
      "            is A.N.Other@example.com, you can specify it as follows:\n",
      "               from Bio import Entrez\n",
      "               Entrez.email = 'A.N.Other@example.com'\n",
      "            In case of excessive usage of the E-utilities, NCBI will attempt to contact\n",
      "            a user at the email address provided before blocking access to the\n",
      "            E-utilities.\n",
      "  warnings.warn(\n"
     ]
    }
   ],
   "source": [
    "if __name__ == \"__main__\":\n",
    "\n",
    "    path_file = \"./disease_json/data.json\"\n",
    "    #abnormal_file = \"./pubmed_search/abnormal_diseases/abnormal_counts.txt\"\n",
    "    output__filename = f\"./pubmed_search/pubmed_search_all.txt\"\n",
    "    json__filename = f\"./pubmed_search/pubmed_search_all.json\"\n",
    "    search_and_save_all_pubmed(output__filename,json__filename)"
   ]
  },
  {
   "cell_type": "code",
   "execution_count": null,
   "id": "1d5d7929",
   "metadata": {
    "lines_to_next_cell": 2
   },
   "outputs": [],
   "source": []
  }
 ],
 "metadata": {
  "jupytext": {
   "cell_metadata_filter": "-all",
   "main_language": "python",
   "notebook_metadata_filter": "-all"
  },
  "kernelspec": {
   "display_name": "Python 3",
   "language": "python",
   "name": "python3"
  },
  "language_info": {
   "codemirror_mode": {
    "name": "ipython",
    "version": 3
   },
   "file_extension": ".py",
   "mimetype": "text/x-python",
   "name": "python",
   "nbconvert_exporter": "python",
   "pygments_lexer": "ipython3",
   "version": "3.8.12"
  }
 },
 "nbformat": 4,
 "nbformat_minor": 5
}

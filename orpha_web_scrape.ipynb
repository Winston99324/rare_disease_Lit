{
 "cells": [
  {
   "cell_type": "markdown",
   "metadata": {},
   "source": [
    "#This code is for scraping rare diseases from orpha.net"
   ]
  },
  {
   "cell_type": "code",
   "execution_count": 24,
   "metadata": {},
   "outputs": [],
   "source": [
    "import requests\n",
    "from bs4 import BeautifulSoup\n",
    "import json "
   ]
  },
  {
   "cell_type": "code",
   "execution_count": 25,
   "metadata": {},
   "outputs": [],
   "source": [
    "#basic orpha net url\n",
    "base_url = \"https://www.orpha.net/en/disease/list/\"\n",
    "\n",
    "#append each alphabet of diseases\n",
    "suffixes = ['0'] + [chr(i) for i in range(ord('a'), ord('z') + 1)]\n",
    "\n",
    "urls = [f\"{base_url}{suffix}\" for suffix in suffixes]\n"
   ]
  },
  {
   "cell_type": "code",
   "execution_count": 26,
   "metadata": {},
   "outputs": [
    {
     "name": "stdout",
     "output_type": "stream",
     "text": [
      "23124\n"
     ]
    }
   ],
   "source": [
    "#scrape data from website \n",
    "data = {\"disease\": []}\n",
    "\n",
    "#url = \"https://www.orpha.net/en/disease/list/d\"\n",
    "for url in urls:\n",
    "    try:\n",
    "        response = requests.get(url)\n",
    "        response.raise_for_status() \n",
    "        soup = BeautifulSoup(response.text, \"html.parser\")\n",
    "\n",
    "        #find diseases in html\n",
    "        results_div = soup.find(\"div\", class_=\"mx-4 results\")\n",
    "        if results_div:\n",
    "\n",
    "            disease_list = results_div.find(\"ul\", class_=\"list-unstyled\")\n",
    "            if disease_list:\n",
    "                for li in disease_list.find_all(\"li\"):\n",
    "                    tag_a = li.find(\"a\")\n",
    "                    if tag_a and \"href\" in tag_a.attrs:\n",
    "                        name = tag_a.text.strip()\n",
    "                        url_disease = tag_a[\"href\"].strip()\n",
    "                        number = url_disease.split(\"/\")[-1]\n",
    "\n",
    "                        data[\"disease\"].append({\n",
    "                            \"Name\": name, \n",
    "                            \"Orphanet_num\": number,\n",
    "                            \"Orphanet_url\": url_disease\n",
    "                        })\n",
    "\n",
    "    except Exception as e:\n",
    "        print(f\"Error processing URL {url}: {e}\")\n",
    "    \n",
    "print(len(data[\"disease\"]))"
   ]
  },
  {
   "cell_type": "code",
   "execution_count": 27,
   "metadata": {},
   "outputs": [],
   "source": [
    "output_dir = \"./disease_json/data.json\"\n",
    "with open(output_dir, \"w\", encoding=\"utf-8\") as json_file:\n",
    "    json.dump(data, json_file, indent=4, ensure_ascii=False)"
   ]
  },
  {
   "cell_type": "code",
   "execution_count": null,
   "metadata": {},
   "outputs": [],
   "source": []
  }
 ],
 "metadata": {
  "kernelspec": {
   "display_name": "Python 3",
   "language": "python",
   "name": "python3"
  },
  "language_info": {
   "codemirror_mode": {
    "name": "ipython",
    "version": 3
   },
   "file_extension": ".py",
   "mimetype": "text/x-python",
   "name": "python",
   "nbconvert_exporter": "python",
   "pygments_lexer": "ipython3",
   "version": "3.8.12"
  }
 },
 "nbformat": 4,
 "nbformat_minor": 2
}
